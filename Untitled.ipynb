{
 "cells": [
  {
   "cell_type": "markdown",
   "id": "e56497fc-a314-47b8-86e8-21587ed120eb",
   "metadata": {},
   "source": [
    "## 문제\n",
    "  - 다음 그림과 같이 단순연결리스트를 이요한 연결된 큐 크래스를 구현하라. 데이터 멤버로는 전단을 가리키는 front와 후단을 가리키는 rear를 사용한다. 삽입은 후단을 통해, 삭제는 전단을 통해 이루어지도록 하라."
   ]
  },
  {
   "cell_type": "markdown",
   "id": "a88e301a-31e3-4c3b-bf63-3e05575bd116",
   "metadata": {},
   "source": [
    "## ADT\n",
    "- Queue(): 비어있는 새로운 큐를 만든다.\n",
    "- isEmpty(): 큐가 비어있으면 True를 아니면 False를 반환한다.\n",
    "- enqueue(x): 항목 x를 큐의 맨 뒤에 추가한다.\n",
    "- dequeue(): 큐의 맨 앞에 있는 항목을 꺼내 반환한다.\n",
    "- peek(): 큐의 맨 앞에 있는 항목을 삭제하지 않고 반환한다.\n",
    "- print(): 연결된 구조의 큐를 화면에 출력한다."
   ]
  },
  {
   "cell_type": "markdown",
   "id": "f83dc0ea-e5e7-4051-828b-b0afe50925a8",
   "metadata": {},
   "source": [
    "## CODE"
   ]
  },
  {
   "cell_type": "code",
   "execution_count": 48,
   "id": "b61a4bcb-1296-4714-b8ee-09fe1feb0490",
   "metadata": {},
   "outputs": [],
   "source": [
    "class Node:\n",
    "    def __init__ (self, data, link=None):\n",
    "        self.data = data \n",
    "        self.link = link\n",
    "        \n",
    "class LinkedQueue:\n",
    "    def __init__( self ):\n",
    "        self.head = None\n",
    "        self.tail = None\n",
    "\n",
    "    def isEmpty( self ): return self.head == None \n",
    "\n",
    "    def enqueue( self, item ):\n",
    "        node = Node(item, None)\n",
    "        if self.isEmpty() :\n",
    "            self.head = node\n",
    "            self.tail = node\n",
    "        else :     \n",
    "            self.tail.link = node\n",
    "            self.tail = node\n",
    "            \n",
    "    def dequeue( self ):\n",
    "        if not self.isEmpty():\n",
    "            data = self.head.data\n",
    "            self.head = self.head.link\n",
    "            return data\n",
    "        else:\n",
    "            print('큐가 비었습니다.')\n",
    "            \n",
    "    def peek( self ):     \n",
    "        return self.head.data\n",
    "\n",
    "    def print( self, msg ):\n",
    "        print(msg, end='')\n",
    "        node = self.head\n",
    "        while node:\n",
    "            print(node.data, end=\" \")\n",
    "            node = node.link\n",
    "        print()"
   ]
  },
  {
   "cell_type": "markdown",
   "id": "692505f4-5386-417e-a239-42881f823f03",
   "metadata": {},
   "source": [
    "## TEST : DataSet, 실행결과"
   ]
  },
  {
   "cell_type": "code",
   "execution_count": 49,
   "id": "9429a24f-6188-4e9d-b4c6-019939005f4a",
   "metadata": {},
   "outputs": [
    {
     "name": "stdout",
     "output_type": "stream",
     "text": [
      "연결된 구조의 큐 구현\n",
      "\n",
      "큐 enqueue 9회:0 1 2 3 4 5 6 7 8 9 \n",
      "\tdequeue() -->  0\n",
      "\tdequeue() -->  1\n",
      "\tdequeue() -->  2\n",
      "큐 dequeue 3회:3 4 5 6 7 8 9 \n",
      "큐 enqueue 4회:3 4 5 6 7 8 9 수퍼맨 배트맨 원더우먼 아쿠아맨 \n",
      "\tdequeue() -->  3\n",
      "큐 dequeue 1회:4 5 6 7 8 9 수퍼맨 배트맨 원더우먼 아쿠아맨 \n",
      "\tpeek()-->  4\n"
     ]
    }
   ],
   "source": [
    "def testLinkedQueue() :\n",
    "    print('연결된 구조의 큐 구현\\n')\n",
    "    queue = LinkedQueue()\n",
    "    for i in range(10):\n",
    "        queue.enqueue(i)\n",
    "    queue.print('큐 enqueue 9회:')\n",
    "    print('\\tdequeue() --> ', queue.dequeue())\n",
    "    print('\\tdequeue() --> ', queue.dequeue())\n",
    "    print('\\tdequeue() --> ', queue.dequeue())\n",
    "    queue.print('큐 dequeue 3회:')\n",
    "    \n",
    "    queue.enqueue('수퍼맨')\n",
    "    queue.enqueue('배트맨')\n",
    "    queue.enqueue('원더우먼')\n",
    "    queue.enqueue('아쿠아맨')\n",
    "    queue.print('큐 enqueue 4회:')\n",
    "    print('\\tdequeue() --> ', queue.dequeue())\n",
    "    queue.print('큐 dequeue 1회:')\n",
    "    print('\\tpeek()--> ', queue.peek())\n",
    "    \n",
    "testLinkedQueue()"
   ]
  },
  {
   "cell_type": "markdown",
   "id": "d9f488fe-b783-4d91-b032-045257bad7b5",
   "metadata": {},
   "source": [
    "## Time Compleity"
   ]
  },
  {
   "cell_type": "code",
   "execution_count": null,
   "id": "caaf5627-a420-4a3c-ba6e-e582c92e7921",
   "metadata": {},
   "outputs": [],
   "source": []
  },
  {
   "cell_type": "markdown",
   "id": "5a40f359-b1b0-45f4-92a3-922ef6cf1047",
   "metadata": {},
   "source": [
    "## Feedback"
   ]
  },
  {
   "cell_type": "code",
   "execution_count": null,
   "id": "00933d5a-cf79-4116-bfac-a15507f167ac",
   "metadata": {},
   "outputs": [],
   "source": []
  }
 ],
 "metadata": {
  "kernelspec": {
   "display_name": "Python 3 (ipykernel)",
   "language": "python",
   "name": "python3"
  },
  "language_info": {
   "codemirror_mode": {
    "name": "ipython",
    "version": 3
   },
   "file_extension": ".py",
   "mimetype": "text/x-python",
   "name": "python",
   "nbconvert_exporter": "python",
   "pygments_lexer": "ipython3",
   "version": "3.9.7"
  }
 },
 "nbformat": 4,
 "nbformat_minor": 5
}
